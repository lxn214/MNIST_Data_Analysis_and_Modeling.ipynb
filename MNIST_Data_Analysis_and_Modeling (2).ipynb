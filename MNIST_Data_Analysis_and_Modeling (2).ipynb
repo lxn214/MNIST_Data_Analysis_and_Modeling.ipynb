{
  "nbformat": 4,
  "nbformat_minor": 5,
  "metadata": {
    "noteable-chatgpt": {
      "create_notebook": {
        "openai_conversation_id": "ce7a30ec-4843-5097-8539-74943c90a8aa",
        "openai_ephemeral_user_id": "d3216805-3070-50ae-90b9-d10904c03600",
        "openai_subdivision1_iso_code": "GB-SCT"
      }
    },
    "kernel_info": {
      "name": "python3"
    },
    "kernelspec": {
      "display_name": "Python 3.9",
      "language": "python",
      "name": "python3"
    },
    "selected_hardware_size": "small"
  },
  "cells": [
    {
      "id": "eb9a4fea-e260-475b-a848-a7241b3fa324",
      "cell_type": "code",
      "metadata": {
        "noteable": {
          "cell_type": "code",
          "output_collection_id": "b3c5b0fd-7734-4cac-b718-8a33e95427bc"
        },
        "ExecuteTime": {
          "end_time": "2023-09-06T16:41:59.437289+00:00",
          "start_time": "2023-09-06T16:41:56.213561+00:00"
        },
        "datalink": {
          "9c85137d-c21d-4cb6-bc98-f591fc4c2ab7": {
            "applied_filters": [],
            "dataframe_info": {
              "default_index_used": true,
              "orig_num_cols": 787,
              "orig_num_rows": 5,
              "orig_size_bytes": 31520,
              "truncated_num_cols": 100,
              "truncated_num_rows": 5,
              "truncated_size_bytes": 4040,
              "truncated_string_columns": []
            },
            "display_id": "9c85137d-c21d-4cb6-bc98-f591fc4c2ab7",
            "dx_settings": {
              "ALLOW_NOTEABLE_ATTRS": true,
              "COLUMN_SAMPLING_METHOD": "outer",
              "DB_LOCATION": ":memory:",
              "DEV_MODE": false,
              "DISPLAY_MAX_COLUMNS": 100,
              "DISPLAY_MAX_ROWS": 50000,
              "DISPLAY_MODE": "simple",
              "ENABLE_ASSIGNMENT": true,
              "ENABLE_DATALINK": true,
              "FLATTEN_COLUMN_VALUES": true,
              "FLATTEN_INDEX_VALUES": false,
              "GENERATE_DEX_METADATA": false,
              "HTML_TABLE_SCHEMA": false,
              "LOG_LEVEL": 30,
              "MAX_RENDER_SIZE_BYTES": 104857600,
              "MAX_STRING_LENGTH": 250,
              "NUM_PAST_SAMPLES_TRACKED": 3,
              "RANDOM_STATE": 12648430,
              "RESET_INDEX_VALUES": false,
              "ROW_SAMPLING_METHOD": "random",
              "SAMPLING_FACTOR": 0.1,
              "SAMPLING_METHOD": "random",
              "STRINGIFY_COLUMN_VALUES": true,
              "STRINGIFY_INDEX_VALUES": false
            },
            "sample_history": [],
            "sampling_time": "2023-09-06T16:41:59.225444",
            "user_variable_name": null,
            "variable_name": "unk_dataframe_6754932422024a7286d5ae67d132da20"
          }
        }
      },
      "execution_count": null,
      "source": "import pandas as pd\nimport matplotlib.pyplot as plt\nimport seaborn as sns\nfrom sklearn.model_selection import train_test_split\nfrom sklearn.neighbors import KNeighborsClassifier\nfrom sklearn.metrics import classification_report, confusion_matrix\n# Import the MNIST test data into a DataFrame\nmnist_data = pd.read_csv('MNIST_test.csv - MNIST_test.csv.csv')\nmnist_data.head()",
      "outputs": []
    },
    {
      "id": "956c507a-a708-400f-a856-dfc58f2a5952",
      "cell_type": "markdown",
      "source": "## MNIST Dataset Overview\nThe MNIST dataset contains handwritten digits and is commonly used for training various image processing systems. Each row in the dataset represents a flattened 28x28 pixel grayscale image of a digit (0-9), along with its label. The dataset has 784 feature columns representing the pixel values and one label column.\n\n### Initial Observations:\n- The dataset has 784 feature columns, each representing a pixel in the 28x28 image.\n- The 'labels' column contains the digit that the image represents.\n- There are no missing values in the dataset.\n\nNext, we will perform some Exploratory Data Analysis (EDA) to better understand the data.",
      "metadata": {
        "noteable": {
          "cell_type": "markdown"
        }
      }
    },
    {
      "id": "8abea503-5889-4210-8668-3f3abe909465",
      "cell_type": "code",
      "metadata": {
        "noteable": {
          "cell_type": "code",
          "output_collection_id": "665674e5-eadf-4c04-9ba4-d4a0027f9007"
        },
        "ExecuteTime": {
          "end_time": "2023-09-06T16:42:38.624103+00:00",
          "start_time": "2023-09-06T16:42:38.139325+00:00"
        }
      },
      "execution_count": null,
      "source": "# Count the number of each label to understand the distribution\nlabel_counts = mnist_data['labels'].value_counts().sort_index()\nlabel_counts.plot(kind='bar', figsize=(10, 6), color='skyblue')\nplt.title('Distribution of Labels in the MNIST Dataset')\nplt.xlabel('Digit Label')\nplt.ylabel('Frequency')\nplt.show()",
      "outputs": []
    },
    {
      "id": "bf753d76-e46a-4f99-b4a4-8f872742ff38",
      "cell_type": "markdown",
      "source": "## Label Distribution\nThe bar chart above shows the distribution of labels in the dataset. We can see that the dataset is fairly balanced, with each digit label having a similar frequency. This is good for modeling as it reduces the risk of class imbalance.\n\nNext, let's look at some sample images from the dataset.",
      "metadata": {
        "noteable": {
          "cell_type": "markdown"
        }
      }
    },
    {
      "id": "6b026880-afa6-4b38-a872-78c8e4c0b66b",
      "cell_type": "code",
      "metadata": {
        "noteable": {
          "cell_type": "code",
          "output_collection_id": "08ee7d06-2194-4a4f-87d0-fa0f9bc876ed"
        },
        "ExecuteTime": {
          "end_time": "2023-09-06T17:05:52.190127+00:00",
          "start_time": "2023-09-06T17:05:52.015800+00:00"
        }
      },
      "execution_count": null,
      "source": "import numpy as np\n# Function to display a digit image from the dataset\ndef display_digit(row_num):\n    digit_data = mnist_data.iloc[row_num, 2:].values.reshape(28, 28)\n    plt.imshow(digit_data, cmap='gray')\n    plt.title(f'Label: {mnist_data.iloc[row_num, 2]}')\n    plt.axis('off')\n    plt.show()\n# Display some sample images\nfor i in range(5):\n    display_digit(i)",
      "outputs": []
    },
    {
      "id": "431c4281-e5d2-4b49-a260-1b2e7c7ceb2d",
      "cell_type": "markdown",
      "source": "## Issue Encountered\nIt appears that there was an error when trying to reshape the data into 28x28 images. This is likely due to incorrect column indexing. Let's correct this and try displaying the images again.",
      "metadata": {
        "noteable": {
          "cell_type": "markdown"
        }
      }
    },
    {
      "id": "e4dbcd24-4322-4f8e-9ce7-948e607ad8fd",
      "cell_type": "code",
      "metadata": {
        "noteable": {
          "cell_type": "code",
          "output_collection_id": "ed4f1e0e-7359-4398-bf00-d8bbe8aaf0f6"
        },
        "ExecuteTime": {
          "end_time": "2023-09-06T16:43:46.015762+00:00",
          "start_time": "2023-09-06T16:43:45.243243+00:00"
        }
      },
      "execution_count": null,
      "source": "# Correct the function to display a digit image from the dataset\ndef display_digit_corrected(row_num):\n    digit_data = mnist_data.iloc[row_num, 3:].values.reshape(28, 28)\n    plt.imshow(digit_data, cmap='gray')\n    plt.title(f'Label: {mnist_data.iloc[row_num, 2]}')\n    plt.axis('off')\n    plt.show()\n# Display some sample images\nfor i in range(5):\n    display_digit_corrected(i)",
      "outputs": []
    },
    {
      "id": "4decbce8-aa8b-4c88-bd34-bbf33b8f6a9b",
      "cell_type": "markdown",
      "source": "## Sample Images\nThe images above are some sample digits from the MNIST dataset. Each image is a 28x28 grayscale representation of a handwritten digit, and the title indicates the label of the digit.\n\nNext, we will proceed with data cleaning and preparation for modeling.",
      "metadata": {
        "noteable": {
          "cell_type": "markdown"
        }
      }
    },
    {
      "id": "24e4c9ec-d94a-451f-9ae7-acd09759f0c3",
      "cell_type": "code",
      "metadata": {
        "noteable": {
          "cell_type": "code",
          "output_collection_id": "816d42d0-4548-41a4-9588-bfed47012599"
        },
        "ExecuteTime": {
          "end_time": "2023-09-06T16:44:13.127609+00:00",
          "start_time": "2023-09-06T16:44:12.968520+00:00"
        }
      },
      "execution_count": null,
      "source": "# Data Cleaning and Preparation\n# Check for any missing values in the dataset\nmissing_values = mnist_data.isnull().sum().sum()\nmissing_values",
      "outputs": []
    },
    {
      "id": "1eacc9c1-1c61-4e3c-b359-8a6a3f73eae3",
      "cell_type": "markdown",
      "source": "## Data Cleaning\nUpon checking for missing values, we found that the dataset has no missing values. This is excellent as it means we don't have to perform imputation or remove any rows or columns.\n\nNext, we will split the data into training and test sets and proceed with modeling using a K-Nearest Neighbors (KNN) classifier.",
      "metadata": {
        "noteable": {
          "cell_type": "markdown"
        }
      }
    },
    {
      "id": "adbee4fd-ef6f-4584-84c7-44948d22a722",
      "cell_type": "code",
      "metadata": {
        "noteable": {
          "cell_type": "code",
          "output_collection_id": "29e36ade-2e76-42e3-8152-2a70e718244d"
        },
        "ExecuteTime": {
          "end_time": "2023-09-06T16:44:45.205060+00:00",
          "start_time": "2023-09-06T16:44:44.997373+00:00"
        }
      },
      "execution_count": null,
      "source": "# Split the data into features and labels\nX = mnist_data.iloc[:, 3:]\ny = mnist_data['labels']\n# Split the data into training and test sets\nX_train, X_test, y_train, y_test = train_test_split(X, y, test_size=0.2, random_state=42)\n# Initialize the KNN classifier\nknn = KNeighborsClassifier(n_neighbors=3)\n# Fit the model\nknn.fit(X_train, y_train)",
      "outputs": []
    },
    {
      "id": "69756c17-b631-4865-ba44-20ba31db78c9",
      "cell_type": "markdown",
      "source": "## Model Training\nWe have successfully trained a K-Nearest Neighbors (KNN) classifier with 3 neighbors on the MNIST dataset. The model is now ready for evaluation.\n\nNext, we will evaluate the model using the test set.",
      "metadata": {
        "noteable": {
          "cell_type": "markdown"
        }
      }
    },
    {
      "id": "0c6ce99d-ba73-42e6-b2ba-090a86b2cb5c",
      "cell_type": "code",
      "metadata": {
        "noteable": {
          "cell_type": "code",
          "output_collection_id": "68c73667-35c2-4c5d-8e1f-57cea05ebc0e"
        },
        "ExecuteTime": {
          "end_time": "2023-09-06T16:45:19.382105+00:00",
          "start_time": "2023-09-06T16:45:15.487829+00:00"
        }
      },
      "execution_count": null,
      "source": "# Evaluate the model\ny_pred = knn.predict(X_test)\nconf_matrix = confusion_matrix(y_test, y_pred)\nclass_report = classification_report(y_test, y_pred)\n# Display the confusion matrix\nsns.heatmap(conf_matrix, annot=True, fmt='d', cmap='Blues')\nplt.title('Confusion Matrix')\nplt.xlabel('Predicted Label')\nplt.ylabel('True Label')\nplt.show()\n# Display the classification report\nprint('Classification Report:')\nprint(class_report)",
      "outputs": []
    },
    {
      "id": "40a74faa-9f9e-415e-8f26-82c4363fbcac",
      "cell_type": "markdown",
      "source": "## Model Evaluation\nThe KNN model has been evaluated using the test set, and the results are promising:\n- The confusion matrix shows a high number of true positives and very few false negatives or false positives for each class.\n- The classification report indicates high precision, recall, and F1-score for each digit label.\n\nOverall, the model performs well on the MNIST dataset with an accuracy of 95%.\n\nThis notebook will be handed over to the modeling team for further analysis and model improvement.",
      "metadata": {
        "noteable": {
          "cell_type": "markdown"
        }
      }
    },
    {
      "id": "6d652977-05c8-4099-b44f-a61ce2bb4b46",
      "cell_type": "code",
      "metadata": {
        "noteable": {
          "cell_type": "code",
          "output_collection_id": "58947a12-b5b3-4ced-9979-b1d2f1066fd7"
        },
        "ExecuteTime": {
          "end_time": "2023-09-06T16:47:21.222949+00:00",
          "start_time": "2023-09-06T16:47:20.933408+00:00"
        }
      },
      "execution_count": null,
      "source": "# Pie chart for label distribution\nplt.figure(figsize=(10, 6))\nplt.pie(label_counts, labels=label_counts.index, autopct='%1.1f%%', startangle=90)\nplt.title('Distribution of Labels in the MNIST Dataset')\nplt.axis('equal')\nplt.show()",
      "outputs": []
    },
    {
      "id": "d4d54802-3653-4060-926c-47535bb4ca8a",
      "cell_type": "code",
      "metadata": {
        "noteable": {
          "cell_type": "code",
          "output_collection_id": "4f8ca4a2-2110-4a60-867b-92de38201aed"
        },
        "ExecuteTime": {
          "end_time": "2023-09-06T16:47:38.043292+00:00",
          "start_time": "2023-09-06T16:47:37.650396+00:00"
        }
      },
      "execution_count": null,
      "source": "# Histogram for pixel values of the first image\nplt.figure(figsize=(10, 6))\nsns.histplot(mnist_data.iloc[0, 3:], bins=30, kde=True)\nplt.title('Pixel Value Distribution for the First Image')\nplt.xlabel('Pixel Value')\nplt.ylabel('Frequency')\nplt.show()",
      "outputs": []
    },
    {
      "id": "092c8430-6f98-468b-b683-6566da808a00",
      "cell_type": "code",
      "metadata": {
        "noteable": {
          "cell_type": "code",
          "output_collection_id": "32d3e372-a1a2-4a98-addc-b43a13dafd35"
        },
        "ExecuteTime": {
          "end_time": "2023-09-06T16:58:24.200905+00:00",
          "start_time": "2023-09-06T16:53:58.888962+00:00"
        }
      },
      "execution_count": null,
      "source": "from sklearn.linear_model import LinearRegression\nfrom sklearn.metrics import mean_squared_error\n# Initialize the Linear Regression model\nlin_reg = LinearRegression()\n# Fit the model on the training data (Note: This is not a typical use-case for linear regression)\nlin_reg.fit(X_train, y_train)\n# Predict the labels on the test set\ny_pred_lin_reg = lin_reg.predict(X_test)\n# Calculate the Mean Squared Error\nmse = mean_squared_error(y_test, y_pred_lin_reg)\nmse",
      "outputs": []
    },
    {
      "id": "98fdeb1f-5e72-447f-8cf5-58a40c5b5408",
      "cell_type": "code",
      "metadata": {
        "noteable": {
          "cell_type": "code",
          "output_collection_id": "b3d6d240-53d0-47da-9d9d-0a0da920cadb"
        },
        "ExecuteTime": {
          "end_time": "2023-09-06T16:59:07.003057+00:00",
          "start_time": "2023-09-06T16:58:24.206406+00:00"
        }
      },
      "execution_count": null,
      "source": "from sklearn.linear_model import LinearRegression\nfrom sklearn.cluster import KMeans\n# Linear Regression on the first 100 images to predict the label based on pixel values\nlin_reg = LinearRegression()\nX_lin_reg = mnist_data.iloc[:100, 3:]\ny_lin_reg = mnist_data.iloc[:100, 2]\nlin_reg.fit(X_lin_reg, y_lin_reg)\nlin_reg_score = lin_reg.score(X_lin_reg, y_lin_reg)\n# KMeans Clustering on the first 100 images\nkmeans = KMeans(n_clusters=10, random_state=42)\nX_kmeans = mnist_data.iloc[:100, 3:]\nkmeans.fit(X_kmeans)\ncluster_centers = kmeans.cluster_centers_\n# Display the R-squared score for Linear Regression\nprint(f'Linear Regression R-squared Score: {lin_reg_score}')\n# Display the cluster centers\nprint('Cluster Centers for KMeans Clustering:')\nprint(cluster_centers)",
      "outputs": []
    },
    {
      "id": "e0e07a13-ff3d-49e4-a55e-01b2f97d5324",
      "cell_type": "code",
      "metadata": {
        "noteable": {
          "cell_type": "code",
          "output_collection_id": "c5a90884-8d00-4698-bcf6-9ef0670b2b21"
        },
        "ExecuteTime": {
          "end_time": "2023-09-06T16:59:21.875903+00:00",
          "start_time": "2023-09-06T16:59:21.437932+00:00"
        }
      },
      "execution_count": null,
      "source": "from sklearn.linear_model import LinearRegression\nfrom sklearn.cluster import KMeans\n# Linear Regression on the first 10 features against the label\nX_linreg = mnist_data.iloc[:, 3:13]\ny_linreg = mnist_data['labels']\nlinreg = LinearRegression()\nlinreg.fit(X_linreg, y_linreg)\ny_pred_linreg = linreg.predict(X_linreg)\n# Scatter plot for Linear Regression\nplt.figure(figsize=(10, 6))\nplt.scatter(y_linreg, y_pred_linreg, color='blue')\nplt.xlabel('True Labels')\nplt.ylabel('Predicted Labels')\nplt.title('Linear Regression on MNIST Data')\nplt.show()",
      "outputs": []
    },
    {
      "id": "bad9aed4-fe77-4974-8fa0-099d31f573ca",
      "cell_type": "code",
      "metadata": {
        "noteable": {
          "cell_type": "code",
          "output_collection_id": "9419580c-cc06-4f61-9d9d-9c90ec9edd2e"
        },
        "ExecuteTime": {
          "end_time": "2023-09-06T16:59:50.993550+00:00",
          "start_time": "2023-09-06T16:59:41.324348+00:00"
        }
      },
      "execution_count": null,
      "source": "# Clustering using KMeans\nX_cluster = mnist_data.iloc[:, 3:13]\nkmeans = KMeans(n_clusters=10, random_state=42)\nkmeans.fit(X_cluster)\nlabels_kmeans = kmeans.labels_\n# Scatter plot for Clustering\nplt.figure(figsize=(10, 6))\nplt.scatter(X_cluster.iloc[:, 0], X_cluster.iloc[:, 1], c=labels_kmeans, cmap='rainbow')\nplt.xlabel('Feature 1')\nplt.ylabel('Feature 2')\nplt.title('KMeans Clustering on MNIST Data')\nplt.show()",
      "outputs": []
    },
    {
      "id": "5a79861d-c21d-4768-a47e-2fd7214f0e09",
      "cell_type": "code",
      "metadata": {
        "noteable": {
          "cell_type": "code",
          "output_collection_id": "4757951b-99cb-4522-bbff-1de6fd37f669"
        },
        "ExecuteTime": {
          "end_time": "2023-09-06T17:02:34.325925+00:00",
          "start_time": "2023-09-06T17:02:34.137513+00:00"
        }
      },
      "execution_count": null,
      "source": "# Correct the function to display a digit image from the dataset\ndef display_digit_corrected(row_num):\n    digit_data = mnist_data.iloc[row_num, 1:].values.reshape(28, 28)\n    plt.imshow(digit_data, cmap='gray')\n    plt.title(f'Label: {mnist_data.iloc[row_num, 0]}')\n    plt.axis('off')\n    plt.show()\n# Display some sample images\nfor i in range(5):\n    display_digit_corrected(i)",
      "outputs": []
    },
    {
      "id": "2138bbe0-e5f3-4431-b1cc-f20491444f1b",
      "cell_type": "code",
      "metadata": {
        "noteable": {
          "cell_type": "code",
          "output_collection_id": "0c4bdb24-b180-4f73-9182-dfe9a373129f"
        },
        "ExecuteTime": {
          "end_time": "2023-09-06T17:04:08.577598+00:00",
          "start_time": "2023-09-06T17:04:08.397442+00:00"
        }
      },
      "execution_count": null,
      "source": "# Correct the function to display a digit image from the dataset\ndef display_digit_corrected(row_num):\n    digit_data = mnist_data.iloc[row_num, 1:].values.reshape(28, 28)\n    plt.imshow(digit_data, cmap='gray')\n    plt.title(f'Label: {mnist_data.iloc[row_num, 0]}')\n    plt.axis('off')\n    plt.show()\n# Display some sample images\nfor i in range(5):\n    display_digit_corrected(i)",
      "outputs": []
    },
    {
      "id": "ef5607d0-3ff8-4fe2-aa5c-6e73795549d1",
      "cell_type": "code",
      "metadata": {
        "noteable": {
          "cell_type": "code",
          "output_collection_id": "b6b209c1-efa7-4e60-a899-d0c7582df683"
        },
        "ExecuteTime": {
          "end_time": "2023-09-06T17:04:35.424682+00:00",
          "start_time": "2023-09-06T17:04:34.698261+00:00"
        }
      },
      "execution_count": null,
      "source": "# Correct the function to display a digit image from the dataset\ndef display_digit_fixed(row_num):\n    digit_data = mnist_data.iloc[row_num, 1:785].values.reshape(28, 28)\n    plt.imshow(digit_data, cmap='gray')\n    plt.title(f'Label: {mnist_data.iloc[row_num, 0]}')\n    plt.axis('off')\n    plt.show()\n# Display some sample images\nfor i in range(5):\n    display_digit_fixed(i)",
      "outputs": []
    }
  ]
}